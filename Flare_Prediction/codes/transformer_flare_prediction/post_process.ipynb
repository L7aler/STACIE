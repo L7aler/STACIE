{
 "cells": [
  {
   "cell_type": "code",
   "execution_count": 1,
   "id": "5723d60b",
   "metadata": {},
   "outputs": [],
   "source": [
    "import pandas as pd\n",
    "import numpy as np\n",
    "import ast\n",
    "import matplotlib.pyplot as plt\n",
    "import seaborn as sns\n",
    "import os\n",
    "from sklearn.metrics import roc_curve, auc, roc_auc_score\n",
    "\n",
    "rfont = {\"font.family\" : \"serif\", \n",
    "      \"mathtext.fontset\" : \"stix\"}\n",
    "plt.rcParams.update(rfont)\n",
    "plt.rcParams[\"legend.labelspacing\"] = 0.001\n",
    "plt.rcParams[\"font.serif\"] = [\"Times New Roman\"] + plt.rcParams[\"font.serif\"]"
   ]
  },
  {
   "cell_type": "code",
   "execution_count": 2,
   "id": "f221b1d2",
   "metadata": {},
   "outputs": [],
   "source": [
    "LOGS_DIR = 'C:\\\\Users\\\\Alberto\\\\Desktop\\\\uni_tmp\\\\ADL\\\\STACIE\\\\flux_prediction\\\\logs\\\\'"
   ]
  },
  {
   "cell_type": "markdown",
   "id": "fe0cb5a2",
   "metadata": {},
   "source": [
    "precision, recall, f1_score, support"
   ]
  },
  {
   "cell_type": "code",
   "execution_count": 3,
   "id": "62a9bfc0",
   "metadata": {},
   "outputs": [
    {
     "ename": "FileNotFoundError",
     "evalue": "[Errno 2] No such file or directory: 'C:\\\\Users\\\\Alberto\\\\Desktop\\\\uni_tmp\\\\ADL\\\\STACIE\\\\flux_prediction\\\\logs\\\\class_report_log-test_log.csv'",
     "output_type": "error",
     "traceback": [
      "\u001b[1;31m---------------------------------------------------------------------------\u001b[0m",
      "\u001b[1;31mFileNotFoundError\u001b[0m                         Traceback (most recent call last)",
      "\u001b[1;32m~\\AppData\\Local\\Temp/ipykernel_4136/1762653321.py\u001b[0m in \u001b[0;36m<module>\u001b[1;34m\u001b[0m\n\u001b[1;32m----> 1\u001b[1;33m \u001b[0mdf1\u001b[0m \u001b[1;33m=\u001b[0m \u001b[0mpd\u001b[0m\u001b[1;33m.\u001b[0m\u001b[0mread_csv\u001b[0m\u001b[1;33m(\u001b[0m\u001b[0mLOGS_DIR\u001b[0m\u001b[1;33m+\u001b[0m\u001b[1;34m'class_report_log-test_log.csv'\u001b[0m\u001b[1;33m)\u001b[0m\u001b[1;33m\u001b[0m\u001b[1;33m\u001b[0m\u001b[0m\n\u001b[0m\u001b[0;32m      2\u001b[0m \u001b[0mdf2\u001b[0m \u001b[1;33m=\u001b[0m \u001b[0mpd\u001b[0m\u001b[1;33m.\u001b[0m\u001b[0mread_csv\u001b[0m\u001b[1;33m(\u001b[0m\u001b[0mLOGS_DIR\u001b[0m\u001b[1;33m+\u001b[0m\u001b[1;34m'conf_matrix_log-test_log.csv'\u001b[0m\u001b[1;33m)\u001b[0m\u001b[1;33m\u001b[0m\u001b[1;33m\u001b[0m\u001b[0m\n\u001b[0;32m      3\u001b[0m \u001b[0mdf3\u001b[0m \u001b[1;33m=\u001b[0m \u001b[0mpd\u001b[0m\u001b[1;33m.\u001b[0m\u001b[0mread_csv\u001b[0m\u001b[1;33m(\u001b[0m\u001b[0mLOGS_DIR\u001b[0m\u001b[1;33m+\u001b[0m\u001b[1;34m'eval_tgt_prob_log-test_log.csv'\u001b[0m\u001b[1;33m)\u001b[0m\u001b[1;33m\u001b[0m\u001b[1;33m\u001b[0m\u001b[0m\n\u001b[0;32m      4\u001b[0m \u001b[0mdf4\u001b[0m \u001b[1;33m=\u001b[0m \u001b[0mpd\u001b[0m\u001b[1;33m.\u001b[0m\u001b[0mread_csv\u001b[0m\u001b[1;33m(\u001b[0m\u001b[0mLOGS_DIR\u001b[0m\u001b[1;33m+\u001b[0m\u001b[1;34m'loss_score_epoch_log-test_log.csv'\u001b[0m\u001b[1;33m)\u001b[0m\u001b[1;33m\u001b[0m\u001b[1;33m\u001b[0m\u001b[0m\n",
      "\u001b[1;32m~\\.conda\\envs\\pytorch\\lib\\site-packages\\pandas\\util\\_decorators.py\u001b[0m in \u001b[0;36mwrapper\u001b[1;34m(*args, **kwargs)\u001b[0m\n\u001b[0;32m    309\u001b[0m                     \u001b[0mstacklevel\u001b[0m\u001b[1;33m=\u001b[0m\u001b[0mstacklevel\u001b[0m\u001b[1;33m,\u001b[0m\u001b[1;33m\u001b[0m\u001b[1;33m\u001b[0m\u001b[0m\n\u001b[0;32m    310\u001b[0m                 )\n\u001b[1;32m--> 311\u001b[1;33m             \u001b[1;32mreturn\u001b[0m \u001b[0mfunc\u001b[0m\u001b[1;33m(\u001b[0m\u001b[1;33m*\u001b[0m\u001b[0margs\u001b[0m\u001b[1;33m,\u001b[0m \u001b[1;33m**\u001b[0m\u001b[0mkwargs\u001b[0m\u001b[1;33m)\u001b[0m\u001b[1;33m\u001b[0m\u001b[1;33m\u001b[0m\u001b[0m\n\u001b[0m\u001b[0;32m    312\u001b[0m \u001b[1;33m\u001b[0m\u001b[0m\n\u001b[0;32m    313\u001b[0m         \u001b[1;32mreturn\u001b[0m \u001b[0mwrapper\u001b[0m\u001b[1;33m\u001b[0m\u001b[1;33m\u001b[0m\u001b[0m\n",
      "\u001b[1;32m~\\.conda\\envs\\pytorch\\lib\\site-packages\\pandas\\io\\parsers\\readers.py\u001b[0m in \u001b[0;36mread_csv\u001b[1;34m(filepath_or_buffer, sep, delimiter, header, names, index_col, usecols, squeeze, prefix, mangle_dupe_cols, dtype, engine, converters, true_values, false_values, skipinitialspace, skiprows, skipfooter, nrows, na_values, keep_default_na, na_filter, verbose, skip_blank_lines, parse_dates, infer_datetime_format, keep_date_col, date_parser, dayfirst, cache_dates, iterator, chunksize, compression, thousands, decimal, lineterminator, quotechar, quoting, doublequote, escapechar, comment, encoding, encoding_errors, dialect, error_bad_lines, warn_bad_lines, on_bad_lines, delim_whitespace, low_memory, memory_map, float_precision, storage_options)\u001b[0m\n\u001b[0;32m    678\u001b[0m     \u001b[0mkwds\u001b[0m\u001b[1;33m.\u001b[0m\u001b[0mupdate\u001b[0m\u001b[1;33m(\u001b[0m\u001b[0mkwds_defaults\u001b[0m\u001b[1;33m)\u001b[0m\u001b[1;33m\u001b[0m\u001b[1;33m\u001b[0m\u001b[0m\n\u001b[0;32m    679\u001b[0m \u001b[1;33m\u001b[0m\u001b[0m\n\u001b[1;32m--> 680\u001b[1;33m     \u001b[1;32mreturn\u001b[0m \u001b[0m_read\u001b[0m\u001b[1;33m(\u001b[0m\u001b[0mfilepath_or_buffer\u001b[0m\u001b[1;33m,\u001b[0m \u001b[0mkwds\u001b[0m\u001b[1;33m)\u001b[0m\u001b[1;33m\u001b[0m\u001b[1;33m\u001b[0m\u001b[0m\n\u001b[0m\u001b[0;32m    681\u001b[0m \u001b[1;33m\u001b[0m\u001b[0m\n\u001b[0;32m    682\u001b[0m \u001b[1;33m\u001b[0m\u001b[0m\n",
      "\u001b[1;32m~\\.conda\\envs\\pytorch\\lib\\site-packages\\pandas\\io\\parsers\\readers.py\u001b[0m in \u001b[0;36m_read\u001b[1;34m(filepath_or_buffer, kwds)\u001b[0m\n\u001b[0;32m    573\u001b[0m \u001b[1;33m\u001b[0m\u001b[0m\n\u001b[0;32m    574\u001b[0m     \u001b[1;31m# Create the parser.\u001b[0m\u001b[1;33m\u001b[0m\u001b[1;33m\u001b[0m\u001b[0m\n\u001b[1;32m--> 575\u001b[1;33m     \u001b[0mparser\u001b[0m \u001b[1;33m=\u001b[0m \u001b[0mTextFileReader\u001b[0m\u001b[1;33m(\u001b[0m\u001b[0mfilepath_or_buffer\u001b[0m\u001b[1;33m,\u001b[0m \u001b[1;33m**\u001b[0m\u001b[0mkwds\u001b[0m\u001b[1;33m)\u001b[0m\u001b[1;33m\u001b[0m\u001b[1;33m\u001b[0m\u001b[0m\n\u001b[0m\u001b[0;32m    576\u001b[0m \u001b[1;33m\u001b[0m\u001b[0m\n\u001b[0;32m    577\u001b[0m     \u001b[1;32mif\u001b[0m \u001b[0mchunksize\u001b[0m \u001b[1;32mor\u001b[0m \u001b[0miterator\u001b[0m\u001b[1;33m:\u001b[0m\u001b[1;33m\u001b[0m\u001b[1;33m\u001b[0m\u001b[0m\n",
      "\u001b[1;32m~\\.conda\\envs\\pytorch\\lib\\site-packages\\pandas\\io\\parsers\\readers.py\u001b[0m in \u001b[0;36m__init__\u001b[1;34m(self, f, engine, **kwds)\u001b[0m\n\u001b[0;32m    931\u001b[0m \u001b[1;33m\u001b[0m\u001b[0m\n\u001b[0;32m    932\u001b[0m         \u001b[0mself\u001b[0m\u001b[1;33m.\u001b[0m\u001b[0mhandles\u001b[0m\u001b[1;33m:\u001b[0m \u001b[0mIOHandles\u001b[0m \u001b[1;33m|\u001b[0m \u001b[1;32mNone\u001b[0m \u001b[1;33m=\u001b[0m \u001b[1;32mNone\u001b[0m\u001b[1;33m\u001b[0m\u001b[1;33m\u001b[0m\u001b[0m\n\u001b[1;32m--> 933\u001b[1;33m         \u001b[0mself\u001b[0m\u001b[1;33m.\u001b[0m\u001b[0m_engine\u001b[0m \u001b[1;33m=\u001b[0m \u001b[0mself\u001b[0m\u001b[1;33m.\u001b[0m\u001b[0m_make_engine\u001b[0m\u001b[1;33m(\u001b[0m\u001b[0mf\u001b[0m\u001b[1;33m,\u001b[0m \u001b[0mself\u001b[0m\u001b[1;33m.\u001b[0m\u001b[0mengine\u001b[0m\u001b[1;33m)\u001b[0m\u001b[1;33m\u001b[0m\u001b[1;33m\u001b[0m\u001b[0m\n\u001b[0m\u001b[0;32m    934\u001b[0m \u001b[1;33m\u001b[0m\u001b[0m\n\u001b[0;32m    935\u001b[0m     \u001b[1;32mdef\u001b[0m \u001b[0mclose\u001b[0m\u001b[1;33m(\u001b[0m\u001b[0mself\u001b[0m\u001b[1;33m)\u001b[0m\u001b[1;33m:\u001b[0m\u001b[1;33m\u001b[0m\u001b[1;33m\u001b[0m\u001b[0m\n",
      "\u001b[1;32m~\\.conda\\envs\\pytorch\\lib\\site-packages\\pandas\\io\\parsers\\readers.py\u001b[0m in \u001b[0;36m_make_engine\u001b[1;34m(self, f, engine)\u001b[0m\n\u001b[0;32m   1215\u001b[0m             \u001b[1;31m# \"Union[str, PathLike[str], ReadCsvBuffer[bytes], ReadCsvBuffer[str]]\"\u001b[0m\u001b[1;33m\u001b[0m\u001b[1;33m\u001b[0m\u001b[0m\n\u001b[0;32m   1216\u001b[0m             \u001b[1;31m# , \"str\", \"bool\", \"Any\", \"Any\", \"Any\", \"Any\", \"Any\"\u001b[0m\u001b[1;33m\u001b[0m\u001b[1;33m\u001b[0m\u001b[0m\n\u001b[1;32m-> 1217\u001b[1;33m             self.handles = get_handle(  # type: ignore[call-overload]\n\u001b[0m\u001b[0;32m   1218\u001b[0m                 \u001b[0mf\u001b[0m\u001b[1;33m,\u001b[0m\u001b[1;33m\u001b[0m\u001b[1;33m\u001b[0m\u001b[0m\n\u001b[0;32m   1219\u001b[0m                 \u001b[0mmode\u001b[0m\u001b[1;33m,\u001b[0m\u001b[1;33m\u001b[0m\u001b[1;33m\u001b[0m\u001b[0m\n",
      "\u001b[1;32m~\\.conda\\envs\\pytorch\\lib\\site-packages\\pandas\\io\\common.py\u001b[0m in \u001b[0;36mget_handle\u001b[1;34m(path_or_buf, mode, encoding, compression, memory_map, is_text, errors, storage_options)\u001b[0m\n\u001b[0;32m    787\u001b[0m         \u001b[1;32mif\u001b[0m \u001b[0mioargs\u001b[0m\u001b[1;33m.\u001b[0m\u001b[0mencoding\u001b[0m \u001b[1;32mand\u001b[0m \u001b[1;34m\"b\"\u001b[0m \u001b[1;32mnot\u001b[0m \u001b[1;32min\u001b[0m \u001b[0mioargs\u001b[0m\u001b[1;33m.\u001b[0m\u001b[0mmode\u001b[0m\u001b[1;33m:\u001b[0m\u001b[1;33m\u001b[0m\u001b[1;33m\u001b[0m\u001b[0m\n\u001b[0;32m    788\u001b[0m             \u001b[1;31m# Encoding\u001b[0m\u001b[1;33m\u001b[0m\u001b[1;33m\u001b[0m\u001b[0m\n\u001b[1;32m--> 789\u001b[1;33m             handle = open(\n\u001b[0m\u001b[0;32m    790\u001b[0m                 \u001b[0mhandle\u001b[0m\u001b[1;33m,\u001b[0m\u001b[1;33m\u001b[0m\u001b[1;33m\u001b[0m\u001b[0m\n\u001b[0;32m    791\u001b[0m                 \u001b[0mioargs\u001b[0m\u001b[1;33m.\u001b[0m\u001b[0mmode\u001b[0m\u001b[1;33m,\u001b[0m\u001b[1;33m\u001b[0m\u001b[1;33m\u001b[0m\u001b[0m\n",
      "\u001b[1;31mFileNotFoundError\u001b[0m: [Errno 2] No such file or directory: 'C:\\\\Users\\\\Alberto\\\\Desktop\\\\uni_tmp\\\\ADL\\\\STACIE\\\\flux_prediction\\\\logs\\\\class_report_log-test_log.csv'"
     ]
    }
   ],
   "source": [
    "df1 = pd.read_csv(LOGS_DIR+'class_report_log-test_log.csv')\n",
    "df2 = pd.read_csv(LOGS_DIR+'conf_matrix_log-test_log.csv')\n",
    "df3 = pd.read_csv(LOGS_DIR+'eval_tgt_prob_log-test_log.csv')\n",
    "df4 = pd.read_csv(LOGS_DIR+'loss_score_epoch_log-test_log.csv')"
   ]
  },
  {
   "cell_type": "code",
   "execution_count": 11,
   "id": "328589d7",
   "metadata": {},
   "outputs": [
    {
     "data": {
      "text/html": [
       "<div>\n",
       "<style scoped>\n",
       "    .dataframe tbody tr th:only-of-type {\n",
       "        vertical-align: middle;\n",
       "    }\n",
       "\n",
       "    .dataframe tbody tr th {\n",
       "        vertical-align: top;\n",
       "    }\n",
       "\n",
       "    .dataframe thead th {\n",
       "        text-align: right;\n",
       "    }\n",
       "</style>\n",
       "<table border=\"1\" class=\"dataframe\">\n",
       "  <thead>\n",
       "    <tr style=\"text-align: right;\">\n",
       "      <th></th>\n",
       "      <th>0</th>\n",
       "      <th>1</th>\n",
       "      <th>accuracy</th>\n",
       "      <th>macro avg</th>\n",
       "      <th>weighted avg</th>\n",
       "    </tr>\n",
       "  </thead>\n",
       "  <tbody>\n",
       "    <tr>\n",
       "      <th>0</th>\n",
       "      <td>0.829769</td>\n",
       "      <td>0.550149</td>\n",
       "      <td>0.000000</td>\n",
       "      <td>0.689959</td>\n",
       "      <td>0.725423</td>\n",
       "    </tr>\n",
       "    <tr>\n",
       "      <th>1</th>\n",
       "      <td>0.616649</td>\n",
       "      <td>0.787499</td>\n",
       "      <td>0.000000</td>\n",
       "      <td>0.702074</td>\n",
       "      <td>0.680405</td>\n",
       "    </tr>\n",
       "    <tr>\n",
       "      <th>2</th>\n",
       "      <td>0.707508</td>\n",
       "      <td>0.647767</td>\n",
       "      <td>0.680405</td>\n",
       "      <td>0.677637</td>\n",
       "      <td>0.685214</td>\n",
       "    </tr>\n",
       "    <tr>\n",
       "      <th>3</th>\n",
       "      <td>25611.000000</td>\n",
       "      <td>15247.000000</td>\n",
       "      <td>40858.000000</td>\n",
       "      <td>40858.000000</td>\n",
       "      <td>40858.000000</td>\n",
       "    </tr>\n",
       "  </tbody>\n",
       "</table>\n",
       "</div>"
      ],
      "text/plain": [
       "              0             1      accuracy     macro avg  weighted avg\n",
       "0      0.829769      0.550149      0.000000      0.689959      0.725423\n",
       "1      0.616649      0.787499      0.000000      0.702074      0.680405\n",
       "2      0.707508      0.647767      0.680405      0.677637      0.685214\n",
       "3  25611.000000  15247.000000  40858.000000  40858.000000  40858.000000"
      ]
     },
     "execution_count": 11,
     "metadata": {},
     "output_type": "execute_result"
    }
   ],
   "source": [
    "df1"
   ]
  },
  {
   "cell_type": "markdown",
   "id": "e0542327",
   "metadata": {},
   "source": [
    "Best run based on f1 score macro average"
   ]
  },
  {
   "cell_type": "code",
   "execution_count": 104,
   "id": "a75fb98a",
   "metadata": {},
   "outputs": [],
   "source": [
    "n_class = 5\n",
    "n_runs = 3\n",
    "bert_str = 'bert'\n",
    "dframes = dict()\n",
    "f1_macro_avg = np.zeros(n_runs)\n",
    "for i in range(n_runs):\n",
    "    run_idx = i+1\n",
    "    run_name = 'run'+str(run_idx).zfill(2)+f'-{n_class}l-{bert_str}'\n",
    "    dframes[run_name] = pd.read_csv(LOGS_DIR+f'class_report_{run_name}_log.csv')\n",
    "    f1_macro_avg[i] = dframes[run_name]['macro avg'][2]"
   ]
  },
  {
   "cell_type": "code",
   "execution_count": 105,
   "id": "7e1ce7bf",
   "metadata": {},
   "outputs": [
    {
     "name": "stdout",
     "output_type": "stream",
     "text": [
      "[0.38928427 0.39078074 0.3878446 ] run id: 02\n"
     ]
    }
   ],
   "source": [
    "best_run = np.argmax(f1_macro_avg)\n",
    "print(f1_macro_avg, 'run id:', str(best_run+1).zfill(2))"
   ]
  },
  {
   "cell_type": "code",
   "execution_count": 106,
   "id": "ffb3fbcc",
   "metadata": {},
   "outputs": [],
   "source": [
    "best_df = pd.read_csv(LOGS_DIR+'class_report_run02-5l-bert_log.csv')"
   ]
  },
  {
   "cell_type": "code",
   "execution_count": 107,
   "id": "73dfe8ac",
   "metadata": {},
   "outputs": [
    {
     "data": {
      "text/html": [
       "<div>\n",
       "<style scoped>\n",
       "    .dataframe tbody tr th:only-of-type {\n",
       "        vertical-align: middle;\n",
       "    }\n",
       "\n",
       "    .dataframe tbody tr th {\n",
       "        vertical-align: top;\n",
       "    }\n",
       "\n",
       "    .dataframe thead th {\n",
       "        text-align: right;\n",
       "    }\n",
       "</style>\n",
       "<table border=\"1\" class=\"dataframe\">\n",
       "  <thead>\n",
       "    <tr style=\"text-align: right;\">\n",
       "      <th></th>\n",
       "      <th>0</th>\n",
       "      <th>1</th>\n",
       "      <th>2</th>\n",
       "      <th>3</th>\n",
       "      <th>4</th>\n",
       "      <th>accuracy</th>\n",
       "      <th>macro avg</th>\n",
       "      <th>weighted avg</th>\n",
       "    </tr>\n",
       "  </thead>\n",
       "  <tbody>\n",
       "    <tr>\n",
       "      <th>0</th>\n",
       "      <td>0.799325</td>\n",
       "      <td>0.466974</td>\n",
       "      <td>0.342331</td>\n",
       "      <td>0.496198</td>\n",
       "      <td>0.0</td>\n",
       "      <td>0.000000</td>\n",
       "      <td>0.420965</td>\n",
       "      <td>0.653862</td>\n",
       "    </tr>\n",
       "    <tr>\n",
       "      <th>1</th>\n",
       "      <td>0.749014</td>\n",
       "      <td>0.522861</td>\n",
       "      <td>0.412764</td>\n",
       "      <td>0.228546</td>\n",
       "      <td>0.0</td>\n",
       "      <td>0.000000</td>\n",
       "      <td>0.382637</td>\n",
       "      <td>0.636571</td>\n",
       "    </tr>\n",
       "    <tr>\n",
       "      <th>2</th>\n",
       "      <td>0.773352</td>\n",
       "      <td>0.493340</td>\n",
       "      <td>0.374262</td>\n",
       "      <td>0.312950</td>\n",
       "      <td>0.0</td>\n",
       "      <td>0.636571</td>\n",
       "      <td>0.390781</td>\n",
       "      <td>0.642485</td>\n",
       "    </tr>\n",
       "    <tr>\n",
       "      <th>3</th>\n",
       "      <td>25611.000000</td>\n",
       "      <td>6977.000000</td>\n",
       "      <td>7067.000000</td>\n",
       "      <td>1142.000000</td>\n",
       "      <td>61.0</td>\n",
       "      <td>40858.000000</td>\n",
       "      <td>40858.000000</td>\n",
       "      <td>40858.000000</td>\n",
       "    </tr>\n",
       "  </tbody>\n",
       "</table>\n",
       "</div>"
      ],
      "text/plain": [
       "              0            1            2            3     4      accuracy  \\\n",
       "0      0.799325     0.466974     0.342331     0.496198   0.0      0.000000   \n",
       "1      0.749014     0.522861     0.412764     0.228546   0.0      0.000000   \n",
       "2      0.773352     0.493340     0.374262     0.312950   0.0      0.636571   \n",
       "3  25611.000000  6977.000000  7067.000000  1142.000000  61.0  40858.000000   \n",
       "\n",
       "      macro avg  weighted avg  \n",
       "0      0.420965      0.653862  \n",
       "1      0.382637      0.636571  \n",
       "2      0.390781      0.642485  \n",
       "3  40858.000000  40858.000000  "
      ]
     },
     "execution_count": 107,
     "metadata": {},
     "output_type": "execute_result"
    }
   ],
   "source": [
    "best_df"
   ]
  },
  {
   "cell_type": "code",
   "execution_count": 57,
   "id": "e7554074",
   "metadata": {},
   "outputs": [],
   "source": [
    "best_df_cmat = pd.read_csv(LOGS_DIR+'conf_matrix_run01-3l_log.csv')"
   ]
  },
  {
   "cell_type": "markdown",
   "id": "9d9b4e32",
   "metadata": {},
   "source": [
    "Loads confusion matrix and plots it"
   ]
  },
  {
   "cell_type": "code",
   "execution_count": 3,
   "id": "c30876dd",
   "metadata": {},
   "outputs": [],
   "source": [
    "df_cmat_2l = pd.read_csv(LOGS_DIR+'conf_matrix_run06-2l_log.csv')\n",
    "df_cmat_3l = pd.read_csv(LOGS_DIR+'conf_matrix_run01-3l_log.csv')\n",
    "df_cmat_5l = pd.read_csv(LOGS_DIR+'conf_matrix_run01-5l_log.csv')\n",
    "\n",
    "df_cmat_bert_2l = pd.read_csv(LOGS_DIR+'conf_matrix_run02-2l-bert_log.csv')\n",
    "df_cmat_bert_3l = pd.read_csv(LOGS_DIR+'conf_matrix_run02-3l-bert_log.csv')\n",
    "df_cmat_bert_5l = pd.read_csv(LOGS_DIR+'conf_matrix_run02-5l-bert_log.csv')"
   ]
  },
  {
   "cell_type": "code",
   "execution_count": 12,
   "id": "9e9724f5",
   "metadata": {},
   "outputs": [],
   "source": [
    "plot_folder = 'plots'\n",
    "\n",
    "n_class = 3\n",
    "run_id = 'run02-3l-bert'\n",
    "best_df_cmat = df_cmat_bert_3l\n",
    "\n",
    "plot_path = os.path.join(os.getcwd(), plot_folder, run_id+'_conf_matrix_v3.png')"
   ]
  },
  {
   "cell_type": "code",
   "execution_count": 13,
   "id": "da3d9b4b",
   "metadata": {},
   "outputs": [
    {
     "data": {
      "image/png": "[encoded data removed]",
      "text/plain": [
       "<Figure size 432x288 with 2 Axes>"
      ]
     },
     "metadata": {
      "needs_background": "light"
     },
     "output_type": "display_data"
    }
   ],
   "source": [
    "cmat = []\n",
    "\n",
    "for i in range(n_class):\n",
    "    \n",
    "    cmat.append(ast.literal_eval(best_df_cmat['norm_cmt'][i]))\n",
    "    \n",
    "cmat = np.array(cmat)*100\n",
    "\n",
    "if n_class == 5:\n",
    "    cmat_new = np.copy(cmat)\n",
    "    cmat_new[:, 1], cmat_new[:, 2] =  cmat[:, 2], cmat[:, 1]\n",
    "    \n",
    "    cmat = np.copy(cmat_new)\n",
    "    cmat_new[1, :], cmat_new[2, :] = cmat[2, :], cmat[1, :]\n",
    "else:\n",
    "    cmat_new = cmat\n",
    "\n",
    "#fig = plt.figure(figsize = (10,7))\n",
    "fig = plt.figure()\n",
    "ax = fig.add_subplot(111)\n",
    "ax.set_title(f'Confusion matrix - {n_class} Classes', fontsize = 15)\n",
    "\n",
    "\n",
    "ax = sns.heatmap(cmat_new, cmap=\"Blues\", annot=True,\n",
    "                 fmt='.3g', #only for run02-5l-bert\n",
    "                 cbar_kws={'label': 'Accuracy (%)'}, annot_kws={\"size\": 12})\n",
    "\n",
    "ax.set_xlabel('')\n",
    "ax.set_ylabel('')\n",
    "\n",
    "if n_class == 5:\n",
    "    #df_cm = pd.DataFrame(cmat, index = ['No flare', 'C', 'B', 'M', 'X'],\n",
    "    #                     columns = ['No flare', 'C', 'B', 'M', 'X'])\n",
    "    ax.xaxis.set_ticklabels(['No flare', 'B', 'C', 'M', 'X'], size=12)\n",
    "    ax.yaxis.set_ticklabels(['No flare', 'B', 'C', 'M', 'X'], size=12)\n",
    "elif n_class == 3:\n",
    "    #df_cm = pd.DataFrame(cmat, index = ['No flare', 'C+B', 'M+X'],\n",
    "    #                     columns = ['No flare', 'C+B', 'M+X'])\n",
    "    ax.xaxis.set_ticklabels(['No flare', 'B+C', 'M+X'], size=12)\n",
    "    ax.yaxis.set_ticklabels(['No flare', 'B+C', 'M+X'], size=12)\n",
    "elif n_class == 2:\n",
    "    #df_cm = pd.DataFrame(cmat, index = ['No flare', 'Flare'],\n",
    "    #                     columns = ['No flare', 'Flare'])\n",
    "    ax.xaxis.set_ticklabels(['No Flare','Flare'], size=12)\n",
    "    ax.yaxis.set_ticklabels(['No Flare','Flare'], size=12)\n",
    "    \n",
    "ax.figure.axes[-1].yaxis.label.set_size(12)\n",
    "\n",
    "plt.savefig(plot_path)"
   ]
  },
  {
   "cell_type": "markdown",
   "id": "e8350643",
   "metadata": {},
   "source": [
    "ROC curve"
   ]
  },
  {
   "cell_type": "code",
   "execution_count": 4,
   "id": "df2f2a4a",
   "metadata": {},
   "outputs": [],
   "source": [
    "df_roc_2l = pd.read_csv(LOGS_DIR+'eval_tgt_prob_run06-2l_log.csv')\n",
    "df_roc_bert_2l = pd.read_csv(LOGS_DIR+'eval_tgt_prob_run02-2l-bert_log.csv')"
   ]
  },
  {
   "cell_type": "code",
   "execution_count": 7,
   "id": "fd2f9753",
   "metadata": {},
   "outputs": [],
   "source": [
    "plot_folder = 'plots'\n",
    "\n",
    "current_df = df_roc_bert_2l\n",
    "run_id = 'run02-2l-bert'\n",
    "\n",
    "plot_path2 = os.path.join(os.getcwd(), plot_folder, run_id+'_roc_v2.png')\n",
    "plot_path3 = os.path.join(os.getcwd(), plot_folder, run_id+'_roc_xaxis')\n",
    "plot_path4 = os.path.join(os.getcwd(), plot_folder, run_id+'_roc_yaxis')\n",
    "\n",
    "\n",
    "tgt_list = []\n",
    "\n",
    "for row in current_df['eval_target']:\n",
    "    #print(type(row))\n",
    "    #tgt.append(ast.literal_eval(row))\n",
    "    tgt_list.append(row)\n",
    "    \n",
    "prob_list = []\n",
    "for row in current_df['eval_out_prob']:\n",
    "    prob_list.append(ast.literal_eval(row))\n",
    "    \n",
    "prob_array = np.array(prob_list)"
   ]
  },
  {
   "cell_type": "code",
   "execution_count": 8,
   "id": "e02569e6",
   "metadata": {},
   "outputs": [
    {
     "name": "stdout",
     "output_type": "stream",
     "text": [
      "ROC curve (area = 0.80)\n"
     ]
    },
    {
     "data": {
      "image/png": "[encoded data removed]",
      "text/plain": [
       "<Figure size 504x504 with 1 Axes>"
      ]
     },
     "metadata": {
      "needs_background": "light"
     },
     "output_type": "display_data"
    }
   ],
   "source": [
    "rfont = {\"font.family\" : \"serif\", \n",
    "      \"mathtext.fontset\" : \"stix\"}\n",
    "plt.rcParams.update(rfont)\n",
    "plt.rcParams[\"legend.labelspacing\"] = 0.001\n",
    "plt.rcParams[\"font.serif\"] = [\"Times New Roman\"] + plt.rcParams[\"font.serif\"]\n",
    "\n",
    "fpr = dict()\n",
    "tpr = dict()\n",
    "roc_auc = dict()\n",
    "fig = plt.figure(figsize=(7,7))\n",
    "ax = fig.add_subplot(111)\n",
    "#lw = 2\n",
    "\n",
    "#only one roc curve\n",
    "#print(tgt_list)\n",
    "#prob_array = np.array(prob_list)\n",
    "current_y_score = prob_array[:, 1] #according to documentation y_score has to be probabilities of the positive class\n",
    "fpr[0], tpr[0], _ = roc_curve(tgt_list, current_y_score)\n",
    "roc_auc[0] = auc(fpr[0], tpr[0])\n",
    "fpr[\"micro\"], tpr[\"micro\"], _ = roc_curve(np.array(tgt_list).ravel(), current_y_score.ravel())\n",
    "roc_auc[\"micro\"] = auc(fpr[\"micro\"], tpr[\"micro\"])\n",
    "\n",
    "np.save(plot_path3, fpr[0])\n",
    "np.save(plot_path4, tpr[0])\n",
    "\n",
    "ax.plot(fpr[0], tpr[0], color = 'black', #lw=2, \n",
    "        #label=\"ROC curve (area = %0.2f)\" % roc_auc[0]\n",
    "        label='Our model')\n",
    "\n",
    "ax.plot([0, 1], [0, 1], color = 'black', ls = '--', label = 'Random Classifier')\n",
    "#plt.xlim([0.0, 1.0])\n",
    "#plt.ylim([0.0, 1.0])\n",
    "ax.set_title('ROC curve', fontsize = 15)\n",
    "ax.set_ylabel('True Positive Rate', fontsize = 15)\n",
    "ax.set_xlabel('False Positive Rate', fontsize = 15)\n",
    "\n",
    "ax.minorticks_on()\n",
    "ax.tick_params(which = 'both', bottom = True, top = True, left = True, right = True)\n",
    "ax.tick_params(which = 'major', length = 8, direction = 'in', labelsize = 12)\n",
    "ax.tick_params(which = 'minor', length = 4, direction = 'in', labelsize = 12)\n",
    "ax.legend(frameon = False, fontsize = 15)\n",
    "\n",
    "print(\"ROC curve (area = %0.2f)\" % roc_auc[0])\n",
    "#plt.legend(loc=\"lower right\")\n",
    "\n",
    "plt.savefig(plot_path2)"
   ]
  },
  {
   "cell_type": "code",
   "execution_count": null,
   "id": "2ef9abd0",
   "metadata": {},
   "outputs": [],
   "source": []
  }
 ],
 "metadata": {
  "kernelspec": {
   "display_name": "Python 3 (ipykernel)",
   "language": "python",
   "name": "python3"
  },
  "language_info": {
   "codemirror_mode": {
    "name": "ipython",
    "version": 3
   },
   "file_extension": ".py",
   "mimetype": "text/x-python",
   "name": "python",
   "nbconvert_exporter": "python",
   "pygments_lexer": "ipython3",
   "version": "3.9.7"
  }
 },
 "nbformat": 4,
 "nbformat_minor": 5
}
