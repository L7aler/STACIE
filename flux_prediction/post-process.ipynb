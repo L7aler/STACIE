{
 "cells": [
  {
   "cell_type": "code",
   "execution_count": 1,
   "id": "bc16ecb3",
   "metadata": {},
   "outputs": [],
   "source": [
    "import pandas as pd\n",
    "import numpy as np"
   ]
  },
  {
   "cell_type": "code",
   "execution_count": 3,
   "id": "a0aa71ba",
   "metadata": {},
   "outputs": [],
   "source": [
    "LOGS_DIR = 'C:\\\\Users\\\\Alberto\\\\Desktop\\\\uni_tmp\\\\ADL\\\\STACIE\\\\flux_prediction\\\\logs\\\\'"
   ]
  },
  {
   "cell_type": "markdown",
   "id": "383ab496",
   "metadata": {},
   "source": [
    "precision, recall, f1_score, support"
   ]
  },
  {
   "cell_type": "code",
   "execution_count": 6,
   "id": "09c6e5a3",
   "metadata": {},
   "outputs": [],
   "source": [
    "df1 = pd.read_csv(LOGS_DIR+'class_report_log-test_log.csv')\n",
    "df2 = pd.read_csv(LOGS_DIR+'conf_matrix_log-test_log.csv')\n",
    "df3 = pd.read_csv(LOGS_DIR+'eval_tgt_prob_log-test_log.csv')\n",
    "df4 = pd.read_csv(LOGS_DIR+'loss_score_epoch_log-test_log.csv')"
   ]
  },
  {
   "cell_type": "code",
   "execution_count": 11,
   "id": "c8ea9d93",
   "metadata": {},
   "outputs": [
    {
     "data": {
      "text/html": [
       "<div>\n",
       "<style scoped>\n",
       "    .dataframe tbody tr th:only-of-type {\n",
       "        vertical-align: middle;\n",
       "    }\n",
       "\n",
       "    .dataframe tbody tr th {\n",
       "        vertical-align: top;\n",
       "    }\n",
       "\n",
       "    .dataframe thead th {\n",
       "        text-align: right;\n",
       "    }\n",
       "</style>\n",
       "<table border=\"1\" class=\"dataframe\">\n",
       "  <thead>\n",
       "    <tr style=\"text-align: right;\">\n",
       "      <th></th>\n",
       "      <th>0</th>\n",
       "      <th>1</th>\n",
       "      <th>accuracy</th>\n",
       "      <th>macro avg</th>\n",
       "      <th>weighted avg</th>\n",
       "    </tr>\n",
       "  </thead>\n",
       "  <tbody>\n",
       "    <tr>\n",
       "      <th>0</th>\n",
       "      <td>0.829769</td>\n",
       "      <td>0.550149</td>\n",
       "      <td>0.000000</td>\n",
       "      <td>0.689959</td>\n",
       "      <td>0.725423</td>\n",
       "    </tr>\n",
       "    <tr>\n",
       "      <th>1</th>\n",
       "      <td>0.616649</td>\n",
       "      <td>0.787499</td>\n",
       "      <td>0.000000</td>\n",
       "      <td>0.702074</td>\n",
       "      <td>0.680405</td>\n",
       "    </tr>\n",
       "    <tr>\n",
       "      <th>2</th>\n",
       "      <td>0.707508</td>\n",
       "      <td>0.647767</td>\n",
       "      <td>0.680405</td>\n",
       "      <td>0.677637</td>\n",
       "      <td>0.685214</td>\n",
       "    </tr>\n",
       "    <tr>\n",
       "      <th>3</th>\n",
       "      <td>25611.000000</td>\n",
       "      <td>15247.000000</td>\n",
       "      <td>40858.000000</td>\n",
       "      <td>40858.000000</td>\n",
       "      <td>40858.000000</td>\n",
       "    </tr>\n",
       "  </tbody>\n",
       "</table>\n",
       "</div>"
      ],
      "text/plain": [
       "              0             1      accuracy     macro avg  weighted avg\n",
       "0      0.829769      0.550149      0.000000      0.689959      0.725423\n",
       "1      0.616649      0.787499      0.000000      0.702074      0.680405\n",
       "2      0.707508      0.647767      0.680405      0.677637      0.685214\n",
       "3  25611.000000  15247.000000  40858.000000  40858.000000  40858.000000"
      ]
     },
     "execution_count": 11,
     "metadata": {},
     "output_type": "execute_result"
    }
   ],
   "source": [
    "df1"
   ]
  },
  {
   "cell_type": "markdown",
   "id": "b4cd6be8",
   "metadata": {},
   "source": [
    "Best run based on f1 score macro average"
   ]
  },
  {
   "cell_type": "code",
   "execution_count": 29,
   "id": "a9504c69",
   "metadata": {},
   "outputs": [],
   "source": [
    "n_class = 2\n",
    "n_runs = 2\n",
    "dframes = dict()\n",
    "f1_macro_avg = np.zeros(n_runs)\n",
    "for i in range(n_runs):\n",
    "    run_idx = i+1\n",
    "    run_name = 'run'+str(run_idx).zfill(2)+f'-{n_class}l'\n",
    "    dframes[run_name] = pd.read_csv(LOGS_DIR+f'class_report_{run_name}_log.csv')\n",
    "    f1_macro_avg[i] = dframes[run_name]['macro avg'][2]"
   ]
  },
  {
   "cell_type": "code",
   "execution_count": 32,
   "id": "35ef8a75",
   "metadata": {},
   "outputs": [
    {
     "name": "stdout",
     "output_type": "stream",
     "text": [
      "[0.71239889 0.70522222] 0\n"
     ]
    }
   ],
   "source": [
    "best_run = np.argmax(f1_macro_avg)\n",
    "print(f1_macro_avg, best_run)"
   ]
  },
  {
   "cell_type": "code",
   "execution_count": null,
   "id": "7ca18705",
   "metadata": {},
   "outputs": [],
   "source": []
  }
 ],
 "metadata": {
  "kernelspec": {
   "display_name": "Python 3 (ipykernel)",
   "language": "python",
   "name": "python3"
  },
  "language_info": {
   "codemirror_mode": {
    "name": "ipython",
    "version": 3
   },
   "file_extension": ".py",
   "mimetype": "text/x-python",
   "name": "python",
   "nbconvert_exporter": "python",
   "pygments_lexer": "ipython3",
   "version": "3.9.7"
  }
 },
 "nbformat": 4,
 "nbformat_minor": 5
}
