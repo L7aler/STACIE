{
 "cells": [
  {
   "cell_type": "code",
   "execution_count": 1,
   "metadata": {},
   "outputs": [],
   "source": [
    "import numpy as np\n",
    "import os\n",
    "FLUX_DATA_DIR = 'C:\\\\Users\\\\Alberto\\\\Desktop\\\\uni_tmp\\\\ADL\\\\STACIE\\\\flux_prediction\\\\data\\\\magnetic_flux_area_data\\\\'\n",
    "LSTM_DATA_DIR = 'C:\\\\Users\\\\Alberto\\\\Desktop\\\\uni_tmp\\\\ADL\\\\STACIE\\\\flux_prediction\\\\data\\\\lstm_data\\\\multi_label_classification\\\\'"
   ]
  },
  {
   "cell_type": "code",
   "execution_count": 2,
   "metadata": {},
   "outputs": [],
   "source": [
    "file_inp = LSTM_DATA_DIR + 'train_input.npy'\n",
    "file_tar = LSTM_DATA_DIR + 'train_target.npy'\n",
    "\n",
    "train_input = np.load(file_inp)\n",
    "train_target = np.load(file_tar)\n",
    "\n",
    "file2_inp = LSTM_DATA_DIR + 'val_input.npy'\n",
    "file2_tar = LSTM_DATA_DIR + 'val_target.npy'\n",
    "\n",
    "val_input = np.load(file2_inp)\n",
    "val_target = np.load(file2_tar)"
   ]
  },
  {
   "cell_type": "code",
   "execution_count": 28,
   "metadata": {},
   "outputs": [],
   "source": [
    "t2_input = train_input\n",
    "t2_output = train_target"
   ]
  },
  {
   "cell_type": "code",
   "execution_count": 29,
   "metadata": {},
   "outputs": [
    {
     "name": "stdout",
     "output_type": "stream",
     "text": [
      "(77738, 10, 40) (77738, 1, 5)\n"
     ]
    }
   ],
   "source": [
    "my_shape = t2_input.shape\n",
    "#my_shape = (my_shape[0], my_shape[1], my_shape[2] + 5)\n",
    "my_shape2 = t2_output.shape\n",
    "\n",
    "print(my_shape, my_shape2)"
   ]
  },
  {
   "cell_type": "code",
   "execution_count": 30,
   "metadata": {},
   "outputs": [],
   "source": [
    "array1 = np.pad(t2_input, ((0,0), (0,0), (0,5)), mode='constant')\n",
    "array2 = np.pad(t2_output, ((0,0), (0,0), (40,0)), mode='constant')"
   ]
  },
  {
   "cell_type": "markdown",
   "metadata": {},
   "source": [
    "learning rate tutorial: https://pytorch-forecasting.readthedocs.io/en/stable/tutorials/stallion.html"
   ]
  },
  {
   "cell_type": "code",
   "execution_count": 34,
   "metadata": {},
   "outputs": [
    {
     "data": {
      "text/plain": [
       "array([0., 0., 0., 0., 0., 0., 0., 0., 0., 0., 0., 0., 0., 0., 0., 0., 0.,\n",
       "       0., 0., 0., 0., 0., 0., 0., 0., 0., 0., 0., 0., 0., 0., 0., 0., 0.,\n",
       "       0., 0., 0., 0., 0., 0., 0., 0., 1., 0., 0.])"
      ]
     },
     "execution_count": 34,
     "metadata": {},
     "output_type": "execute_result"
    }
   ],
   "source": [
    "array2[500][0]"
   ]
  },
  {
   "cell_type": "code",
   "execution_count": 27,
   "metadata": {},
   "outputs": [
    {
     "name": "stdout",
     "output_type": "stream",
     "text": [
      "[-0.56783394  0.         -0.12532183  0.         -0.71248128 -0.43924826\n",
      "  1.35573235 -0.57862741  0.         -0.64730654  0.15149191  0.\n",
      "  0.         -0.13710701 -0.15285074  0.58515245  0.          0.49902362\n",
      "  0.          3.8277182   1.20383338 -0.13714851  0.33179481  3.44528444\n",
      " -1.35885841  0.24234076  1.3449445   0.74412219  0.          0.\n",
      "  0.          0.          0.          0.53544267  0.71633556  1.36444972\n",
      " -0.62381646  0.          0.          0.        ]\n",
      "[-0.56783394  0.         -0.12532183  0.         -0.71248128 -0.43924826\n",
      "  1.35573235 -0.57862741  0.         -0.64730654  0.15149191  0.\n",
      "  0.         -0.13710701 -0.15285074  0.58515245  0.          0.49902362\n",
      "  0.          3.8277182   1.20383338 -0.13714851  0.33179481  3.44528444\n",
      " -1.35885841  0.24234076  1.3449445   0.74412219  0.          0.\n",
      "  0.          0.          0.          0.53544267  0.71633556  1.36444972\n",
      " -0.62381646  0.          0.          0.          0.          0.\n",
      "  0.          0.          0.        ]\n"
     ]
    }
   ],
   "source": [
    "print(train_input[0][0])\n",
    "print(array1[0][0])"
   ]
  },
  {
   "cell_type": "code",
   "execution_count": null,
   "metadata": {},
   "outputs": [],
   "source": []
  },
  {
   "cell_type": "code",
   "execution_count": 6,
   "metadata": {},
   "outputs": [
    {
     "data": {
      "text/plain": [
       "(77738, 10, 40)"
      ]
     },
     "execution_count": 6,
     "metadata": {},
     "output_type": "execute_result"
    }
   ],
   "source": [
    "train_input.shape"
   ]
  },
  {
   "cell_type": "code",
   "execution_count": 5,
   "metadata": {},
   "outputs": [
    {
     "data": {
      "text/plain": [
       "(77738, 1, 5)"
      ]
     },
     "execution_count": 5,
     "metadata": {},
     "output_type": "execute_result"
    }
   ],
   "source": [
    "train_target.shape"
   ]
  },
  {
   "cell_type": "code",
   "execution_count": 36,
   "metadata": {},
   "outputs": [
    {
     "data": {
      "text/plain": [
       "5"
      ]
     },
     "execution_count": 36,
     "metadata": {},
     "output_type": "execute_result"
    }
   ],
   "source": [
    "len(train_target[0][0])"
   ]
  },
  {
   "cell_type": "code",
   "execution_count": 11,
   "metadata": {},
   "outputs": [],
   "source": [
    "lstm_src = np.load(os.path.join(LUIS_DATA_DIR, 'test_input.npy'))\n",
    "lstm_trg = np.load(os.path.join(LUIS_DATA_DIR, 'test_target.npy'))"
   ]
  },
  {
   "cell_type": "code",
   "execution_count": 15,
   "metadata": {},
   "outputs": [
    {
     "data": {
      "text/plain": [
       "40"
      ]
     },
     "execution_count": 15,
     "metadata": {},
     "output_type": "execute_result"
    }
   ],
   "source": [
    "len(lstm_src[0][0])"
   ]
  },
  {
   "cell_type": "code",
   "execution_count": 17,
   "metadata": {},
   "outputs": [
    {
     "data": {
      "text/plain": [
       "array([[0., 1., 0., 0., 0.]])"
      ]
     },
     "execution_count": 17,
     "metadata": {},
     "output_type": "execute_result"
    }
   ],
   "source": [
    "lstm_trg[0]"
   ]
  },
  {
   "cell_type": "code",
   "execution_count": null,
   "metadata": {},
   "outputs": [],
   "source": []
  },
  {
   "cell_type": "code",
   "execution_count": 3,
   "metadata": {},
   "outputs": [],
   "source": [
    "sources = np.load(os.path.join(FLUX_DATA_DIR, 'set_2', 'input_res_concatenated.npy'))\n",
    "targets = np.load(os.path.join(FLUX_DATA_DIR, 'set_2', 'target_res_concatenated.npy'))"
   ]
  }
 ],
 "metadata": {
  "kernelspec": {
   "display_name": "Python 3",
   "language": "python",
   "name": "python3"
  },
  "language_info": {
   "codemirror_mode": {
    "name": "ipython",
    "version": 3
   },
   "file_extension": ".py",
   "mimetype": "text/x-python",
   "name": "python",
   "nbconvert_exporter": "python",
   "pygments_lexer": "ipython3",
   "version": "3.8.5"
  }
 },
 "nbformat": 4,
 "nbformat_minor": 4
}
