{
 "cells": [
  {
   "cell_type": "code",
   "execution_count": 1,
   "metadata": {},
   "outputs": [],
   "source": [
    "import numpy as np\n",
    "import os\n",
    "FLUX_DATA_DIR = 'C:\\\\Users\\\\Alberto\\\\Desktop\\\\uni_tmp\\\\ADL\\\\STACIE\\\\flux_prediction\\\\data\\\\magnetic_flux_area_data\\\\'\n",
    "LSTM_DATA_DIR = 'C:\\\\Users\\\\Alberto\\\\Desktop\\\\uni_tmp\\\\ADL\\\\STACIE\\\\flux_prediction\\\\data\\\\lstm_data\\\\multi_label_classification\\\\'"
   ]
  },
  {
   "cell_type": "code",
   "execution_count": 2,
   "metadata": {},
   "outputs": [],
   "source": [
    "file_inp = LSTM_DATA_DIR + 'train_input.npy'\n",
    "file_tar = LSTM_DATA_DIR + 'train_target.npy'\n",
    "\n",
    "train_input = np.load(file_inp)\n",
    "train_target = np.load(file_tar)\n",
    "\n",
    "file2_inp = LSTM_DATA_DIR + 'val_input.npy'\n",
    "file2_tar = LSTM_DATA_DIR + 'val_target.npy'\n",
    "\n",
    "val_input = np.load(file2_inp)\n",
    "val_target = np.load(file2_tar)"
   ]
  },
  {
   "cell_type": "code",
   "execution_count": 12,
   "metadata": {},
   "outputs": [
    {
     "name": "stdout",
     "output_type": "stream",
     "text": [
      "[0 0 0 ... 1 1 1]\n"
     ]
    }
   ],
   "source": [
    "#for n in np.argmax(train_target, axis=2):\n",
    "#    print(n, ' ', end='')\n",
    "\n",
    "a = np.argmax(train_target, axis=2).flatten()\n",
    "print(a)"
   ]
  },
  {
   "cell_type": "code",
   "execution_count": 28,
   "metadata": {},
   "outputs": [],
   "source": [
    "t2_input = train_input\n",
    "t2_output = train_target"
   ]
  },
  {
   "cell_type": "code",
   "execution_count": 29,
   "metadata": {},
   "outputs": [
    {
     "name": "stdout",
     "output_type": "stream",
     "text": [
      "(77738, 10, 40) (77738, 1, 5)\n"
     ]
    }
   ],
   "source": [
    "my_shape = t2_input.shape\n",
    "#my_shape = (my_shape[0], my_shape[1], my_shape[2] + 5)\n",
    "my_shape2 = t2_output.shape\n",
    "\n",
    "print(my_shape, my_shape2)"
   ]
  },
  {
   "cell_type": "code",
   "execution_count": 30,
   "metadata": {},
   "outputs": [],
   "source": [
    "array1 = np.pad(t2_input, ((0,0), (0,0), (0,5)), mode='constant')\n",
    "array2 = np.pad(t2_output, ((0,0), (0,0), (40,0)), mode='constant')"
   ]
  },
  {
   "cell_type": "markdown",
   "metadata": {},
   "source": [
    "learning rate tutorial: https://pytorch-forecasting.readthedocs.io/en/stable/tutorials/stallion.html"
   ]
  },
  {
   "cell_type": "code",
   "execution_count": 34,
   "metadata": {},
   "outputs": [
    {
     "data": {
      "text/plain": [
       "array([0., 0., 0., 0., 0., 0., 0., 0., 0., 0., 0., 0., 0., 0., 0., 0., 0.,\n",
       "       0., 0., 0., 0., 0., 0., 0., 0., 0., 0., 0., 0., 0., 0., 0., 0., 0.,\n",
       "       0., 0., 0., 0., 0., 0., 0., 0., 1., 0., 0.])"
      ]
     },
     "execution_count": 34,
     "metadata": {},
     "output_type": "execute_result"
    }
   ],
   "source": [
    "array2[500][0]"
   ]
  },
  {
   "cell_type": "code",
   "execution_count": 13,
   "metadata": {},
   "outputs": [
    {
     "data": {
      "text/plain": [
       "1.0"
      ]
     },
     "execution_count": 13,
     "metadata": {},
     "output_type": "execute_result"
    }
   ],
   "source": [
    "train_target[100,0,0]"
   ]
  },
  {
   "cell_type": "code",
   "execution_count": 1,
   "metadata": {},
   "outputs": [],
   "source": [
    "import torch\n",
    "from sklearn.metrics import f1_score"
   ]
  },
  {
   "cell_type": "code",
   "execution_count": 3,
   "metadata": {},
   "outputs": [],
   "source": [
    "t = torch.Tensor([[ 0.0825,  0.1514],\n",
    "        [ 1.0017, -0.9427],\n",
    "        [-0.2009,  0.5858],\n",
    "        [ 0.5714, -0.4565],\n",
    "        [ 1.1508, -1.1926],\n",
    "        [ 1.2249, -1.2643],\n",
    "        [ 1.0297, -1.0032],\n",
    "        [ 0.1368,  0.1709],\n",
    "        [ 0.8833, -0.8309],\n",
    "        [-0.0853,  0.2499],\n",
    "        [ 1.2265, -1.2521],\n",
    "        [ 1.1567, -1.2178],\n",
    "        [ 0.4999, -0.3505],\n",
    "        [ 1.2842, -1.3214],\n",
    "        [ 1.0780, -1.1057],\n",
    "        [ 0.4917, -0.2947],\n",
    "        [ 0.3241, -0.0980],\n",
    "        [ 0.8195, -0.7421],\n",
    "        [ 0.9674, -1.0017],\n",
    "        [ 0.3735, -0.2303],\n",
    "        [ 0.4533, -0.2839],\n",
    "        [ 0.2105,  0.0082],\n",
    "        [ 0.6989, -0.7105],\n",
    "        [-0.7834,  0.8882],\n",
    "        [ 0.0805,  0.1199],\n",
    "        [ 0.2665,  0.0696],\n",
    "        [ 0.8326, -0.7673],\n",
    "        [ 0.3153, -0.0355],\n",
    "        [ 1.0380, -1.1166],\n",
    "        [ 0.8410, -0.7189],\n",
    "        [ 0.2861, -0.2109],\n",
    "        [ 0.9142, -0.8246],\n",
    "        [ 0.1956,  0.1142],\n",
    "        [ 0.2774,  0.0247],\n",
    "        [ 0.5453, -0.3120],\n",
    "        [ 1.1921, -1.3566],\n",
    "        [ 0.1720, -0.0827],\n",
    "        [ 1.0999, -1.1057],\n",
    "        [ 1.0848, -1.1121],\n",
    "        [ 0.3071, -0.1220],\n",
    "        [ 0.4445, -0.3426],\n",
    "        [ 1.0167, -0.9883],\n",
    "        [ 0.8781, -0.6220]])"
   ]
  },
  {
   "cell_type": "code",
   "execution_count": 9,
   "metadata": {},
   "outputs": [
    {
     "name": "stdout",
     "output_type": "stream",
     "text": [
      "tensor([1, 0, 1, 0, 0, 0, 0, 1, 0, 1, 0, 0, 0, 0, 0, 0, 0, 0, 0, 0, 0, 0, 0, 1,\n",
      "        1, 0, 0, 0, 0, 0, 0, 0, 0, 0, 0, 0, 0, 0, 0, 0, 0, 0, 0])\n"
     ]
    },
    {
     "ename": "IndexError",
     "evalue": "too many indices for tensor of dimension 1",
     "output_type": "error",
     "traceback": [
      "\u001b[1;31m---------------------------------------------------------------------------\u001b[0m",
      "\u001b[1;31mIndexError\u001b[0m                                Traceback (most recent call last)",
      "\u001b[1;32m~\\AppData\\Local\\Temp/ipykernel_32728/1521731468.py\u001b[0m in \u001b[0;36m<module>\u001b[1;34m\u001b[0m\n\u001b[0;32m      4\u001b[0m \u001b[0mprint\u001b[0m\u001b[1;33m(\u001b[0m\u001b[0mlabel_idx\u001b[0m\u001b[1;33m)\u001b[0m\u001b[1;33m\u001b[0m\u001b[1;33m\u001b[0m\u001b[0m\n\u001b[0;32m      5\u001b[0m \u001b[1;33m\u001b[0m\u001b[0m\n\u001b[1;32m----> 6\u001b[1;33m \u001b[0mlabel_idx\u001b[0m \u001b[1;33m=\u001b[0m \u001b[0mlabel_idx\u001b[0m\u001b[1;33m[\u001b[0m\u001b[1;33m:\u001b[0m\u001b[1;33m,\u001b[0m \u001b[1;36m0\u001b[0m\u001b[1;33m]\u001b[0m\u001b[1;33m\u001b[0m\u001b[1;33m\u001b[0m\u001b[0m\n\u001b[0m\u001b[0;32m      7\u001b[0m \u001b[0mprint\u001b[0m\u001b[1;33m(\u001b[0m\u001b[0mlabel_idx\u001b[0m\u001b[1;33m)\u001b[0m\u001b[1;33m\u001b[0m\u001b[1;33m\u001b[0m\u001b[0m\n",
      "\u001b[1;31mIndexError\u001b[0m: too many indices for tensor of dimension 1"
     ]
    }
   ],
   "source": [
    "dim=2\n",
    "            \n",
    "label_idx = torch.argmax(t, dim=1)\n",
    "print(label_idx)\n",
    "\n",
    "#label_idx = label_idx[:, 0]\n",
    "#print(label_idx)"
   ]
  },
  {
   "cell_type": "code",
   "execution_count": 5,
   "metadata": {},
   "outputs": [],
   "source": [
    "from typing import Tuple\n",
    "\n",
    "import torch\n",
    "\n",
    "\n",
    "class F1Score:\n",
    "    \"\"\"\n",
    "    Class for f1 calculation in Pytorch.\n",
    "    \"\"\"\n",
    "\n",
    "    def __init__(self, average: str = 'weighted'):\n",
    "        \"\"\"\n",
    "        Init.\n",
    "\n",
    "        Args:\n",
    "            average: averaging method\n",
    "        \"\"\"\n",
    "        self.average = average\n",
    "        if average not in [None, 'micro', 'macro', 'weighted']:\n",
    "            raise ValueError('Wrong value of average parameter')\n",
    "\n",
    "    @staticmethod\n",
    "    def calc_f1_micro(predictions: torch.Tensor, labels: torch.Tensor) -> torch.Tensor:\n",
    "        \"\"\"\n",
    "        Calculate f1 micro.\n",
    "\n",
    "        Args:\n",
    "            predictions: tensor with predictions\n",
    "            labels: tensor with original labels\n",
    "\n",
    "        Returns:\n",
    "            f1 score\n",
    "        \"\"\"\n",
    "        true_positive = torch.eq(labels, predictions).sum().float()\n",
    "        f1_score = torch.div(true_positive, len(labels))\n",
    "        return f1_score\n",
    "\n",
    "    @staticmethod\n",
    "    def calc_f1_count_for_label(predictions: torch.Tensor,\n",
    "                                labels: torch.Tensor, label_id: int) -> Tuple[torch.Tensor, torch.Tensor]:\n",
    "        \"\"\"\n",
    "        Calculate f1 and true count for the label\n",
    "\n",
    "        Args:\n",
    "            predictions: tensor with predictions\n",
    "            labels: tensor with original labels\n",
    "            label_id: id of current label\n",
    "\n",
    "        Returns:\n",
    "            f1 score and true count for label\n",
    "        \"\"\"\n",
    "        # label count\n",
    "        true_count = torch.eq(labels, label_id).sum()\n",
    "\n",
    "        # true positives: labels equal to prediction and to label_id\n",
    "        true_positive = torch.logical_and(torch.eq(labels, predictions),\n",
    "                                          torch.eq(labels, label_id)).sum().float()\n",
    "        # precision for label\n",
    "        precision = torch.div(true_positive, torch.eq(predictions, label_id).sum().float())\n",
    "        # replace nan values with 0\n",
    "        precision = torch.where(torch.isnan(precision),\n",
    "                                torch.zeros_like(precision).type_as(true_positive),\n",
    "                                precision)\n",
    "\n",
    "        # recall for label\n",
    "        recall = torch.div(true_positive, true_count)\n",
    "        # f1\n",
    "        f1 = 2 * precision * recall / (precision + recall)\n",
    "        # replace nan values with 0\n",
    "        f1 = torch.where(torch.isnan(f1), torch.zeros_like(f1).type_as(true_positive), f1)\n",
    "        return f1, true_count\n",
    "\n",
    "    def __call__(self, predictions: torch.Tensor, labels: torch.Tensor) -> torch.Tensor:\n",
    "        \"\"\"\n",
    "        Calculate f1 score based on averaging method defined in init.\n",
    "\n",
    "        Args:\n",
    "            predictions: tensor with predictions\n",
    "            labels: tensor with original labels\n",
    "\n",
    "        Returns:\n",
    "            f1 score\n",
    "        \"\"\"\n",
    "\n",
    "        # simpler calculation for micro\n",
    "        if self.average == 'micro':\n",
    "            return self.calc_f1_micro(predictions, labels)\n",
    "\n",
    "        f1_score = 0\n",
    "        for label_id in range(len(labels.unique())):\n",
    "            f1, true_count = self.calc_f1_count_for_label(predictions, labels, label_id)\n",
    "\n",
    "            if self.average == 'weighted':\n",
    "                f1_score += f1 * true_count\n",
    "            elif self.average == 'macro':\n",
    "                f1_score += f1\n",
    "\n",
    "        if self.average == 'weighted':\n",
    "            f1_score = torch.div(f1_score, len(labels))\n",
    "        elif self.average == 'macro':\n",
    "            f1_score = torch.div(f1_score, len(labels.unique()))\n",
    "\n",
    "        return f1_score"
   ]
  },
  {
   "cell_type": "code",
   "execution_count": 7,
   "metadata": {},
   "outputs": [
    {
     "name": "stdout",
     "output_type": "stream",
     "text": [
      "tensor(0.0999) 0.09990186693943438\n"
     ]
    }
   ],
   "source": [
    "labels = torch.randint(0, 10, (4096, 100)).flatten()\n",
    "predictions = torch.randint(0, 10, (4096, 100)).flatten()\n",
    "labels1 = labels.numpy()\n",
    "predictions1 = predictions.numpy()\n",
    "\n",
    "f1_metric = F1Score('macro')\n",
    "my_pred = f1_metric(predictions, labels)\n",
    "\n",
    "f1_pred = f1_score(labels1, predictions1, average='macro')\n",
    "\n",
    "print(my_pred, f1_pred)"
   ]
  },
  {
   "cell_type": "code",
   "execution_count": 4,
   "metadata": {},
   "outputs": [
    {
     "data": {
      "text/plain": [
       "\"\\ndef f1_loss(y_true, y_pred):\\n    \\n    tp = K.sum(K.cast(y_true*y_pred, 'float'), axis=0)\\n    tn = K.sum(K.cast((1-y_true)*(1-y_pred), 'float'), axis=0)\\n    fp = K.sum(K.cast((1-y_true)*y_pred, 'float'), axis=0)\\n    fn = K.sum(K.cast(y_true*(1-y_pred), 'float'), axis=0)\\n\\n    p = tp / (tp + fp + K.epsilon())\\n    r = tp / (tp + fn + K.epsilon())\\n\\n    f1 = 2*p*r / (p+r+K.epsilon())\\n    f1 = tf.where(tf.is_nan(f1), tf.zeros_like(f1), f1)\\n    return 1 - K.mean(f1)\\n\""
      ]
     },
     "execution_count": 4,
     "metadata": {},
     "output_type": "execute_result"
    }
   ],
   "source": [
    "def f1(y_true, y_pred):\n",
    "    EPSILON = 1e-7\n",
    "    y_pred = torch.round(y_pred)\n",
    "    a = y_true*y_pred\n",
    "    a.type(torch.FloatTensor)\n",
    "    tp = torch.sum(a, axis=0)\n",
    "    \n",
    "    b = (1-y_true)*(1-y_pred)\n",
    "    b.type(torch.FloatTensor)\n",
    "    tn = torch.sum(b, axis=0)\n",
    "    \n",
    "    c = (1-y_true)*y_pred\n",
    "    c.type(torch.FloatTensor)\n",
    "    fp = torch.sum(c, axis=0)\n",
    "    \n",
    "    d = y_true*(1-y_pred)\n",
    "    d.type(torch.FloatTensor)\n",
    "    fn = torch.sum(d, axis=0)\n",
    "\n",
    "    p = tp / (tp + fp + EPSILON)\n",
    "    r = tp / (tp + fn + EPSILON)\n",
    "\n",
    "    f1 = 2*p*r / (p+r+EPSILON)\n",
    "    f1 = torch.where(torch.isnan(f1), torch.zeros_like(f1), f1)\n",
    "    return torch.mean(f1)\n",
    "\n",
    "\"\"\"\n",
    "def f1_loss(y_true, y_pred):\n",
    "    \n",
    "    tp = K.sum(K.cast(y_true*y_pred, 'float'), axis=0)\n",
    "    tn = K.sum(K.cast((1-y_true)*(1-y_pred), 'float'), axis=0)\n",
    "    fp = K.sum(K.cast((1-y_true)*y_pred, 'float'), axis=0)\n",
    "    fn = K.sum(K.cast(y_true*(1-y_pred), 'float'), axis=0)\n",
    "\n",
    "    p = tp / (tp + fp + K.epsilon())\n",
    "    r = tp / (tp + fn + K.epsilon())\n",
    "\n",
    "    f1 = 2*p*r / (p+r+K.epsilon())\n",
    "    f1 = tf.where(tf.is_nan(f1), tf.zeros_like(f1), f1)\n",
    "    return 1 - K.mean(f1)\n",
    "\"\"\""
   ]
  },
  {
   "cell_type": "code",
   "execution_count": null,
   "metadata": {},
   "outputs": [],
   "source": [
    "y_true = torch.tensor"
   ]
  },
  {
   "cell_type": "code",
   "execution_count": 15,
   "metadata": {},
   "outputs": [
    {
     "data": {
      "text/plain": [
       "40"
      ]
     },
     "execution_count": 15,
     "metadata": {},
     "output_type": "execute_result"
    }
   ],
   "source": [
    "len(lstm_src[0][0])"
   ]
  },
  {
   "cell_type": "code",
   "execution_count": 17,
   "metadata": {},
   "outputs": [
    {
     "data": {
      "text/plain": [
       "array([[0., 1., 0., 0., 0.]])"
      ]
     },
     "execution_count": 17,
     "metadata": {},
     "output_type": "execute_result"
    }
   ],
   "source": [
    "lstm_trg[0]"
   ]
  },
  {
   "cell_type": "code",
   "execution_count": null,
   "metadata": {},
   "outputs": [],
   "source": []
  },
  {
   "cell_type": "code",
   "execution_count": 3,
   "metadata": {},
   "outputs": [],
   "source": [
    "sources = np.load(os.path.join(FLUX_DATA_DIR, 'set_2', 'input_res_concatenated.npy'))\n",
    "targets = np.load(os.path.join(FLUX_DATA_DIR, 'set_2', 'target_res_concatenated.npy'))"
   ]
  }
 ],
 "metadata": {
  "kernelspec": {
   "display_name": "Python 3 (ipykernel)",
   "language": "python",
   "name": "python3"
  },
  "language_info": {
   "codemirror_mode": {
    "name": "ipython",
    "version": 3
   },
   "file_extension": ".py",
   "mimetype": "text/x-python",
   "name": "python",
   "nbconvert_exporter": "python",
   "pygments_lexer": "ipython3",
   "version": "3.9.7"
  }
 },
 "nbformat": 4,
 "nbformat_minor": 4
}
