{
 "cells": [
  {
   "cell_type": "code",
   "execution_count": 10,
   "metadata": {},
   "outputs": [],
   "source": [
    "import numpy as np\n",
    "import os\n",
    "FLUX_DATA_DIR = 'C:\\\\Users\\\\Alberto\\\\Desktop\\\\uni_tmp\\\\ADL\\\\STACIE\\\\flux_prediction\\\\magnetic_flux_area_data\\\\'\n",
    "LUIS_DATA_DIR = 'C:\\\\Users\\\\Alberto\\\\Desktop\\\\uni_tmp\\\\ADL\\\\STACIE\\\\flux_prediction\\\\lstm_data\\\\Multi_label_classification\\\\'"
   ]
  },
  {
   "cell_type": "code",
   "execution_count": 11,
   "metadata": {},
   "outputs": [],
   "source": [
    "lstm_src = np.load(os.path.join(LUIS_DATA_DIR, 'test_input.npy'))\n",
    "lstm_trg = np.load(os.path.join(LUIS_DATA_DIR, 'test_target.npy'))"
   ]
  },
  {
   "cell_type": "code",
   "execution_count": 15,
   "metadata": {},
   "outputs": [
    {
     "data": {
      "text/plain": [
       "40"
      ]
     },
     "execution_count": 15,
     "metadata": {},
     "output_type": "execute_result"
    }
   ],
   "source": [
    "len(lstm_src[0][0])"
   ]
  },
  {
   "cell_type": "code",
   "execution_count": 17,
   "metadata": {},
   "outputs": [
    {
     "data": {
      "text/plain": [
       "array([[0., 1., 0., 0., 0.]])"
      ]
     },
     "execution_count": 17,
     "metadata": {},
     "output_type": "execute_result"
    }
   ],
   "source": [
    "lstm_trg[0]"
   ]
  },
  {
   "cell_type": "code",
   "execution_count": null,
   "metadata": {},
   "outputs": [],
   "source": []
  },
  {
   "cell_type": "code",
   "execution_count": 3,
   "metadata": {},
   "outputs": [],
   "source": [
    "sources = np.load(os.path.join(FLUX_DATA_DIR, 'set_2', 'input_res_concatenated.npy'))\n",
    "targets = np.load(os.path.join(FLUX_DATA_DIR, 'set_2', 'target_res_concatenated.npy'))"
   ]
  }
 ],
 "metadata": {
  "kernelspec": {
   "display_name": "Python 3 (ipykernel)",
   "language": "python",
   "name": "python3"
  },
  "language_info": {
   "codemirror_mode": {
    "name": "ipython",
    "version": 3
   },
   "file_extension": ".py",
   "mimetype": "text/x-python",
   "name": "python",
   "nbconvert_exporter": "python",
   "pygments_lexer": "ipython3",
   "version": "3.9.7"
  }
 },
 "nbformat": 4,
 "nbformat_minor": 4
}
