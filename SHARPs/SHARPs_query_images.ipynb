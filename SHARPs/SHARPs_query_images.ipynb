{
 "cells": [
  {
   "cell_type": "code",
   "execution_count": 5,
   "id": "fd7085d4",
   "metadata": {},
   "outputs": [],
   "source": [
    "import drms\n",
    "import json, numpy as np, matplotlib.pylab as plt, matplotlib.ticker as mtick\n",
    "import urllib\n",
    "from astropy.io import fits\n",
    "from skimage.transform import resize"
   ]
  },
  {
   "cell_type": "code",
   "execution_count": 2,
   "id": "da44a763",
   "metadata": {},
   "outputs": [],
   "source": [
    "import drms\n",
    "c = drms.Client()\n",
    "c.series(r'hmi\\.sharp_')\n",
    "# Set a series\n",
    "si = c.info('hmi.sharp_cea_720s')"
   ]
  },
  {
   "cell_type": "markdown",
   "id": "214284a2",
   "metadata": {},
   "source": [
    "#### You only need to change the date and path in the name in the cells below"
   ]
  },
  {
   "cell_type": "code",
   "execution_count": 3,
   "id": "891bcc17",
   "metadata": {},
   "outputs": [],
   "source": [
    "date = '2010.01.01 - 2014.01.01'    #change this to your desired time period\n",
    "keys = c.query('hmi.sharp_cea_720s[][{}][? (CRLN_OBS < 25) AND (CRLT_OBS < 25) AND (USFLUX > 4e21) ?]'.format(date), key='T_REC, HARPNUM, USFLUX, CRLT_OBS, CRLN_OBS, AREA_ACR')"
   ]
  },
  {
   "cell_type": "code",
   "execution_count": 6,
   "id": "eab55edd",
   "metadata": {},
   "outputs": [],
   "source": [
    "harpnums = keys['HARPNUM'].unique()\n",
    "for harpnum in harpnums:\n",
    "    i = np.where(keys['HARPNUM'] == harpnum)[0]\n",
    "    t_rec = keys['T_REC'][i]\n",
    "    t_rec = t_rec[::8]   #we select every 8th element, so we have time intervals of 12*8=96 minutes as of right now\n",
    "    for t in t_rec:\n",
    "        hmi_query_string = 'hmi.sharp_cea_720s[{}][{}]'.format(harpnum, t)\n",
    "        keys_temp, segments = c.query(hmi_query_string, key='T_REC, USFLUX, ERRVF', seg='Br')\n",
    "        url = 'http://jsoc.stanford.edu' + segments.Br[0]  \n",
    "        photosphere_image = fits.open(url)                  \n",
    "        img = photosphere_image[1].data\n",
    "        res = resize(img, (128, 128))\n",
    "        name = t + '_{}'.format(harpnum)\n",
    "        \n",
    "        name = name.replace(':', '_')\n",
    "        name = name.replace('.', '_')\n",
    "        \n",
    "\n",
    "        path = '/Volumes/L7aler_HD 1/ADL_Project/AR_data/new_SHARP_Data/2010-2014/{}.npy'.format(name)   #change this to your path\n",
    "        with open(path, 'wb') as f:\n",
    "            np.save(f, res)\n",
    "\n",
    "        \n",
    "    "
   ]
  },
  {
   "cell_type": "code",
   "execution_count": null,
   "id": "fba9acd1",
   "metadata": {},
   "outputs": [],
   "source": []
  }
 ],
 "metadata": {
  "kernelspec": {
   "display_name": "Python 3 (ipykernel)",
   "language": "python",
   "name": "python3"
  },
  "language_info": {
   "codemirror_mode": {
    "name": "ipython",
    "version": 3
   },
   "file_extension": ".py",
   "mimetype": "text/x-python",
   "name": "python",
   "nbconvert_exporter": "python",
   "pygments_lexer": "ipython3",
   "version": "3.7.11"
  }
 },
 "nbformat": 4,
 "nbformat_minor": 5
}
