{
 "cells": [
  {
   "cell_type": "code",
   "execution_count": 1,
   "id": "ea9b68a8",
   "metadata": {},
   "outputs": [],
   "source": [
    "import drms\n",
    "import json, numpy as np, matplotlib.pylab as plt, matplotlib.ticker as mtick\n",
    "import urllib\n",
    "from astropy.io import fits\n",
    "from skimage.transform import resize\n",
    "from sunpy.visualization.colormaps import color_tables as ct"
   ]
  },
  {
   "cell_type": "code",
   "execution_count": 5,
   "id": "cc852962",
   "metadata": {},
   "outputs": [],
   "source": [
    "import drms\n",
    "c = drms.Client()\n",
    "c.series(r'hmi\\.sharp_')\n",
    "# Set a series\n",
    "si = c.info('hmi.sharp_cea_720s')"
   ]
  },
  {
   "cell_type": "markdown",
   "id": "40d84a3a",
   "metadata": {},
   "source": [
    "#### You only need to change the date and path in the name in the cells below"
   ]
  },
  {
   "cell_type": "code",
   "execution_count": 11,
   "id": "cfdea09e",
   "metadata": {},
   "outputs": [],
   "source": [
    "#example for how to query\n",
    "#This queries all the data from 2021.09.01 - 2022.01.01 where the unsigned magnetic flux > 4e21 and CRLN_OBS < 360 and CRL_OBS < 360\n",
    "#The property that are queried are indicated at the end as the key argument, so you can obviously add more properties there\n",
    "\n",
    "date = '2021.09.01 - 2022.01.01'    #change this to your desired time period\n",
    "keys = c.query('hmi.sharp_cea_720s[][{}][? (CRLN_OBS < 360) AND (CRLT_OBS < 360) AND (USFLUX > 4e21) ?]'.format(date), key='T_REC, HARPNUM, USFLUX, CRLT_OBS, CRLN_OBS, AREA_ACR')\n"
   ]
  },
  {
   "cell_type": "code",
   "execution_count": 6,
   "id": "e1374ce6",
   "metadata": {},
   "outputs": [],
   "source": [
    "#just a bunch of timespans you want to loop through\n",
    "#they have lengths of 3 months because if you make them too long your query time gets killed\n",
    "\n",
    "date = ['2021.09.01 - 2022.01.01', '2021.06.01 - 2021.09.01', '2021.03.01 - 2021.06.01', '2021.01.01 - 2021.03.01']\n",
    "date2 = ['2020.09.01 - 2021.01.01', '2020.06.01 - 2020.09.01', '2020.03.01 - 2020.06.01', '2020.01.01 - 2020.03.01']\n",
    "date3 = ['2019.09.01 - 2020.01.01', '2019.06.01 - 2019.09.01', '2019.03.01 - 2019.06.01', '2019.01.01 - 2019.03.01']\n",
    "date4 = ['2018.09.01 - 2019.01.01', '2018.06.01 - 2018.09.01', '2018.03.01 - 2018.06.01', '2018.01.01 - 2018.03.01']\n",
    "date5 = ['2017.09.01 - 2018.01.01', '2017.06.01 - 2017.09.01', '2017.03.01 - 2017.06.01', '2017.01.01 - 2017.03.01']\n",
    "date6 = ['2016.09.01 - 2017.01.01', '2016.06.01 - 2016.09.01', '2016.03.01 - 2016.06.01', '2016.01.01 - 2016.03.01']\n",
    "date7 = ['2015.09.01 - 2016.01.01', '2015.06.01 - 2015.09.01', '2015.03.01 - 2015.06.01', '2015.01.01 - 2015.03.01']\n",
    "date8 = ['2014.09.01 - 2015.01.01', '2014.06.01 - 2014.09.01', '2014.03.01 - 2014.06.01', '2014.01.01 - 2014.03.01']\n",
    "date9 = ['2013.09.01 - 2014.01.01', '2013.06.01 - 2013.09.01', '2013.03.01 - 2013.06.01', '2013.01.01 - 2013.03.01']\n",
    "date10 = ['2012.09.01 - 2013.01.01', '2012.06.01 - 2012.09.01', '2012.03.01 - 2012.06.01', '2012.01.01 - 2012.03.01']\n",
    "date11 = ['2011.09.01 - 2012.01.01', '2011.06.01 - 2011.09.01', '2011.03.01 - 2011.06.01', '2011.01.01 - 2011.03.01']\n",
    "date12 = ['2010.09.01 - 2011.01.01', '2010.06.01 - 2010.09.01', '2010.03.01 - 2010.06.01', '2010.01.01 - 2010.03.01']\n",
    "date = date + date2 + date3 + date4 + date5 + date6 + date7 + date8 + date9 + date10 + date11 + date12\n",
    "\n",
    "date.reverse()"
   ]
  },
  {
   "cell_type": "code",
   "execution_count": 7,
   "id": "725f7cc8",
   "metadata": {},
   "outputs": [
    {
     "name": "stdout",
     "output_type": "stream",
     "text": [
      "Failed for: 2011.09.01 - 2012.01.01\n",
      "Failed for: 2014.09.01 - 2015.01.01\n"
     ]
    }
   ],
   "source": [
    "for d in date:\n",
    "    try:\n",
    "        keys = c.query('hmi.sharp_cea_720s[][{}][? (CRLN_OBS < 360) AND (CRLT_OBS < 360) AND (USFLUX > 4e21) ?]'.format(d), key='T_REC, HARPNUM, USFLUX, CRLT_OBS, CRLN_OBS, AREA_ACR') #at the end here to the key argument you want to add additional properties\n",
    "        keys.to_csv(d+'.csv', index = 'False')\n",
    "        #print(d)\n",
    "    except:\n",
    "        print('Failed for:', d)\n",
    "        #it fails if there was too much data\n",
    "        pass\n",
    "        "
   ]
  }
 ],
 "metadata": {
  "kernelspec": {
   "display_name": "Python 3 (ipykernel)",
   "language": "python",
   "name": "python3"
  },
  "language_info": {
   "codemirror_mode": {
    "name": "ipython",
    "version": 3
   },
   "file_extension": ".py",
   "mimetype": "text/x-python",
   "name": "python",
   "nbconvert_exporter": "python",
   "pygments_lexer": "ipython3",
   "version": "3.7.11"
  }
 },
 "nbformat": 4,
 "nbformat_minor": 5
}
