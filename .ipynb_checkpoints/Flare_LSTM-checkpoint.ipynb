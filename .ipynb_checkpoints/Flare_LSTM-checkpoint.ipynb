{
 "cells": [
  {
   "cell_type": "code",
   "execution_count": null,
   "id": "4033d32d",
   "metadata": {},
   "outputs": [],
   "source": [
    "import glob\n",
    "import numpy as np\n",
    "import tensorflow as tf\n",
    "import tensorflow as tf\n",
    "from tensorflow import keras\n",
    "from matplotlib import pyplot as plt\n",
    "\n",
    "from tensorflow.keras.layers import Dense, RNN, LSTM, Flatten, TimeDistributed, LSTMCell, GlobalAveragePooling2D, Input, Dropout, Attention\n",
    "from tensorflow.keras.layers import RepeatVector, Conv2D, SimpleRNN, GRU, Reshape, ConvLSTM2D, Conv2DTranspose, Conv3DTranspose\n",
    "from tensorflow.keras import regularizers\n",
    "\n",
    "\n",
    "#import tensorflow_addons as tfa"
   ]
  },
  {
   "cell_type": "code",
   "execution_count": null,
   "id": "1d31ec48",
   "metadata": {},
   "outputs": [],
   "source": [
    "from google.colab import drive\n",
    "drive.mount('/content/gdrive')"
   ]
  },
  {
   "cell_type": "code",
   "execution_count": null,
   "id": "06efad4e",
   "metadata": {},
   "outputs": [],
   "source": [
    "#upload the data\n",
    "\n",
    "file_inp = '/content/gdrive/MyDrive/ADL_project/Flare_Prediction/Multi_label_classification/train_input.npy'\n",
    "file_tar = '/content/gdrive/MyDrive/ADL_project/Flare_Prediction/Multi_label_classification/train_target.npy'\n",
    "\n",
    "train_input = np.load(file_inp)\n",
    "train_target = np.load(file_tar)\n",
    "\n",
    "file_inp = '/content/gdrive/MyDrive/ADL_project/Flare_Prediction/Multi_label_classification/val_input.npy'\n",
    "file_tar = '/content/gdrive/MyDrive/ADL_project/Flare_Prediction/Multi_label_classification/val_target.npy'\n",
    "\n",
    "val_input = np.load(file_inp)\n",
    "val_target = np.load(file_tar)"
   ]
  },
  {
   "cell_type": "code",
   "execution_count": null,
   "id": "0500e78f",
   "metadata": {},
   "outputs": [],
   "source": [
    "#example architecture\n",
    "\n",
    "model = tf.keras.Sequential()\n",
    "model.add(LSTM(256, input_shape=(10, 40), return_sequences = True))\n",
    "model.add(LSTM(128, return_sequences=True))\n",
    "#model.add(Dropout(0.2))\n",
    "model.add(LSTM(59, return_sequences=True))\n",
    "model.add(LSTM(59, return_sequences=True))\n",
    "model.add(LSTM(59))\n",
    "#model.add(Dropout(rate=0.2))\n",
    "model.add(RepeatVector(1))\n",
    "model.add(TimeDistributed(Dense(200, activation = 'relu')))\n",
    "#model.add(Dropout(0.2))\n",
    "model.add(TimeDistributed(Dense(100, activation = 'relu')))\n",
    "model.add(TimeDistributed(Dense(5, activation = 'softmax')))\n",
    "model.compile(optimizer='nadam', loss='categorical_crossentropy', metrics=['accuracy'])\n",
    "#model.compile(loss=tfa.losses.SigmoidFocalCrossEntropy(), optimizer='adam', metrics=['accuracy'])\n",
    "\n",
    "model.summary()"
   ]
  },
  {
   "cell_type": "code",
   "execution_count": null,
   "id": "8633913b",
   "metadata": {},
   "outputs": [],
   "source": [
    "history = model.fit(train_input, train_target, epochs = 1, shuffle=True, batch_size = 256, validation_data = (val_input, val_target), verbose = False)"
   ]
  },
  {
   "cell_type": "code",
   "execution_count": null,
   "id": "0042054a",
   "metadata": {},
   "outputs": [],
   "source": [
    "#assessing on the validation set (or do test set if you want to)\n",
    "\n",
    "pred = model.predict(val_input)\n",
    "\n",
    "prediction = np.zeros(shape = pred.shape)\n",
    "for i, p in enumerate(pred):\n",
    "    j = np.argmax(p[0])\n",
    "    prediction[i, :, j] = 1\n",
    "\n",
    "\n",
    "pred = prediction\n",
    "\n",
    "from sklearn.metrics import classification_report\n",
    "y_true = np.where(val_target[:, 0, :]==1)[1]\n",
    "y_pred = np.where(pred[:, 0, :]==1)[1]\n",
    "target_names = ['No Flare','C', 'B', 'M', 'X']\n",
    "print(classification_report(y_true, y_pred, target_names=target_names))"
   ]
  }
 ],
 "metadata": {
  "kernelspec": {
   "display_name": "Python 3 (ipykernel)",
   "language": "python",
   "name": "python3"
  },
  "language_info": {
   "codemirror_mode": {
    "name": "ipython",
    "version": 3
   },
   "file_extension": ".py",
   "mimetype": "text/x-python",
   "name": "python",
   "nbconvert_exporter": "python",
   "pygments_lexer": "ipython3",
   "version": "3.7.11"
  }
 },
 "nbformat": 4,
 "nbformat_minor": 5
}
