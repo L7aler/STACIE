{
 "cells": [
  {
   "cell_type": "code",
   "execution_count": null,
   "id": "4dcfec7d",
   "metadata": {},
   "outputs": [],
   "source": [
    "import glob\n",
    "import numpy as np\n",
    "import tensorflow as tf\n",
    "from tensorflow import keras\n",
    "from matplotlib import pyplot as plt\n",
    "from sklearn.utils import shuffle\n",
    "\n",
    "from tensorflow.keras.layers import Dense, RNN, LSTM, Flatten, TimeDistributed, LSTMCell, GlobalAveragePooling2D, Input, Dropout, Attention\n",
    "from tensorflow.keras.layers import RepeatVector, Conv2D, SimpleRNN, GRU, Reshape, ConvLSTM2D, Conv2DTranspose, Conv3DTranspose"
   ]
  },
  {
   "cell_type": "code",
   "execution_count": null,
   "id": "28d39fce",
   "metadata": {},
   "outputs": [],
   "source": [
    "from google.colab import drive\n",
    "drive.mount('/content/gdrive')"
   ]
  },
  {
   "cell_type": "code",
   "execution_count": null,
   "id": "d51b7134",
   "metadata": {},
   "outputs": [],
   "source": [
    "file_inp = '/content/gdrive/MyDrive/ADL_project/Data/set_2/input_res_4params_concatenated.npy'\n",
    "file_tar = '/content/gdrive/MyDrive/ADL_project/Data/set_2/target_res_4params_concatenated.npy'\n",
    "\n",
    "train_input = np.load(file_inp)\n",
    "train_target = np.load(file_tar)\n",
    "\n",
    "train_input, train_target = shuffle(train_input, train_target, random_state=0)"
   ]
  },
  {
   "cell_type": "code",
   "execution_count": null,
   "id": "de22062c",
   "metadata": {},
   "outputs": [],
   "source": [
    "#standardizing the data\n",
    "\n",
    "mu_flux = train_input[:, :, 0].mean()\n",
    "std_flux = train_input[:, :, 0].std()\n",
    "mu_area = train_input[:, :, 1].mean()\n",
    "std_area = train_input[:, :, 1].std()\n",
    "train_input[:, :, 0] = (train_input[:, :, 0] - mu_flux) / std_flux\n",
    "train_input[:, :, 1] = (train_input[:, :, 1] - mu_area) / std_area\n",
    "train_target[:, :, 0] = (train_target[:, :, 0] - mu_flux) / std_flux\n",
    "train_target[:, :, 1] = (train_target[:, :, 1] - mu_area) / std_area"
   ]
  },
  {
   "cell_type": "code",
   "execution_count": null,
   "id": "ba775d9c",
   "metadata": {},
   "outputs": [],
   "source": [
    "model = tf.keras.Sequential()\n",
    "model.add(LSTM(256, input_shape=(33, 2), return_sequences = True))\n",
    "model.add(LSTM(128, return_sequences=True))\n",
    "model.add(LSTM(128))\n",
    "model.add(RepeatVector(8))\n",
    "model.add(LSTM(128, return_sequences=True))\n",
    "model.add(TimeDistributed(Dense(2, activation = 'softplus')))\n",
    "model.compile(optimizer='nadam', loss='mse', metrics=['accuracy'])\n",
    "model.summary()"
   ]
  },
  {
   "cell_type": "code",
   "execution_count": null,
   "id": "04db64e7",
   "metadata": {},
   "outputs": [],
   "source": [
    "history = model.fit(train_input[:30000, :, :2], train_target[:30000, :, :2], epochs = 400, batch_size = 256, validation_data = (train_input[30000:, :, :2], train_target[30000:, :, :2]))"
   ]
  },
  {
   "cell_type": "code",
   "execution_count": null,
   "id": "16edf674",
   "metadata": {},
   "outputs": [],
   "source": [
    "pred = model.predict(train_input[:, :, :2])"
   ]
  },
  {
   "cell_type": "code",
   "execution_count": null,
   "id": "185c9af6",
   "metadata": {},
   "outputs": [],
   "source": [
    "#plot a prediction\n",
    "\n",
    "rc_font = {\"font.family\" : \"serif\", \n",
    "      \"mathtext.fontset\" : \"stix\"}\n",
    "plt.rcParams.update(rc_font)\n",
    "plt.rcParams[\"legend.labelspacing\"] = 0.001\n",
    "plt.rcParams[\"font.serif\"] = [\"Times New Roman\"] + plt.rcParams[\"font.serif\"]\n",
    "\n",
    "\n",
    "\n",
    "\n",
    "x = np.arange(0, 125, 3)\n",
    "i = 30018   #this is for the id, choose an id above 30000 if you want to a prediction on the validation set\n",
    "j = 0       #0 for mag flux plot, 1 for AR area plot\n",
    "save = False\n",
    "#y_true = list(train_input[i, :, j]) + list(train_target[i, :25, j])\n",
    "y_true = list(train_input[i, :, j]) \n",
    "y_true_tar = [train_input[i, -1, j]] + list(train_target[i, :25, j])\n",
    "y_pred = list(train_input[i, :, j]) + list(pred[i, :25, j])\n",
    "fig, ax = plt.subplots(1, 1, figsize = (7, 7))\n",
    "ax.set_title('Set {}'.format(i))\n",
    "\n",
    "if j == 0:\n",
    "  ax.plot(x[:33], np.array(y_true) *std_flux + mu_flux, c = 'black', label = 'Source')\n",
    "  ax.plot(x[32:-1], np.array(y_true_tar) *std_flux + mu_flux, '--', c = 'black', label = 'Target' )\n",
    "  ax.plot(x[32:-1], np.array(y_pred[32:]) *std_flux + mu_flux, '--', c = 'red', label = 'Prediction')\n",
    "  ax.set_ylabel('Magnetic Flux (Mx)', fontsize = 15)\n",
    "  #plt.savefig('Pred_Flux_{}.pdf'.format(i))\n",
    "if j == 1:\n",
    "  ax.plot(x[:33], np.array(y_true) *std_area + mu_area, c = 'black', label = 'Source' )\n",
    "  ax.plot(x[32:-1], np.array(y_true_tar) *std_area + mu_area, '--', c = 'black', label = 'Target' )\n",
    "  ax.plot(x[32:-1], np.array(y_pred[32:]) *std_area + mu_area, '--', c = 'red', label = 'Prediction')\n",
    "  ax.set_ylabel('AR Area', fontsize = 15)\n",
    "  #plt.savefig('Pred_Area_{}.pdf'.format(i))\n",
    "\n",
    "ax.legend(frameon = False, fontsize = 15)\n",
    "ax.set_xlabel(r'Time ($\\times 12$min)', fontsize = 15)\n",
    "\n",
    "ax.minorticks_on()\n",
    "ax.tick_params(which = 'both', bottom = True, top = True, left = True, right = True)\n",
    "ax.tick_params(which = 'major', length = 8, direction = 'in', labelsize = 12)\n",
    "ax.tick_params(which = 'minor', length = 4, direction = 'in', labelsize = 12)\n",
    "if j == 0 & save:\n",
    "  #plt.savefig('Pred_Flux_{}.pdf'.format(i))\n",
    "  pass\n",
    "else:\n",
    "  #plt.savefig('Pred_Area_{}.pdf'.format(i))\n",
    "  pass\n",
    "\n",
    "plt.show()"
   ]
  }
 ],
 "metadata": {
  "kernelspec": {
   "display_name": "Python 3 (ipykernel)",
   "language": "python",
   "name": "python3"
  },
  "language_info": {
   "codemirror_mode": {
    "name": "ipython",
    "version": 3
   },
   "file_extension": ".py",
   "mimetype": "text/x-python",
   "name": "python",
   "nbconvert_exporter": "python",
   "pygments_lexer": "ipython3",
   "version": "3.7.11"
  }
 },
 "nbformat": 4,
 "nbformat_minor": 5
}
